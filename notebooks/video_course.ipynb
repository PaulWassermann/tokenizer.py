{
 "cells": [
  {
   "cell_type": "markdown",
   "metadata": {},
   "source": [
    "# Let's build the GPT tokenizer"
   ]
  },
  {
   "cell_type": "markdown",
   "metadata": {},
   "source": [
    "## Introduction"
   ]
  },
  {
   "cell_type": "markdown",
   "metadata": {},
   "source": [
    "Effects of tokenization on decoder LLM capabilities :\n",
    "- unability to spell words\n",
    "- unability to do basic arithmetics\n",
    "- unability to do basic string processing tasks\n",
    "- preference over some file format (e.g. YAML is better generated than JSON for GPT-2)\n",
    "- preference over language -> less occuring language in the tokenizer training dataset have a longer token representation, which means the information is less dense for a given input from the model perspective."
   ]
  },
  {
   "cell_type": "markdown",
   "metadata": {},
   "source": [
    "From [Python documentation](https://docs.python.org/3/library/functions.html#ord), `ord` is the inverse function of `chr`. It means that its input are single Unicode characters, and its outputs are the associated Unicode code point (i.e integers). "
   ]
  },
  {
   "cell_type": "code",
   "execution_count": 1,
   "metadata": {},
   "outputs": [
    {
     "data": {
      "text/plain": [
       "104"
      ]
     },
     "execution_count": 1,
     "metadata": {},
     "output_type": "execute_result"
    }
   ],
   "source": [
    "ord(\"h\")"
   ]
  },
  {
   "cell_type": "code",
   "execution_count": 2,
   "metadata": {},
   "outputs": [
    {
     "data": {
      "text/plain": [
       "128539"
      ]
     },
     "execution_count": 2,
     "metadata": {},
     "output_type": "execute_result"
    }
   ],
   "source": [
    "ord(\"😛\")"
   ]
  },
  {
   "cell_type": "code",
   "execution_count": 3,
   "metadata": {},
   "outputs": [
    {
     "name": "stdout",
     "output_type": "stream",
     "text": [
      "[12362, 12399, 12424, 12358, 65281, 32, 73, 116, 32, 109, 101, 97, 110, 115, 32, 39, 104, 101, 108, 108, 111, 39, 32, 105, 110, 32, 74, 97, 112, 97, 110, 101, 115, 101, 32, 58, 41]\n"
     ]
    }
   ],
   "source": [
    "my_string = \"おはよう！ It means 'hello' in Japanese :)\"\n",
    "print([ord(char) for char in my_string])"
   ]
  },
  {
   "cell_type": "markdown",
   "metadata": {},
   "source": [
    "Unicode code points can't be used as such because they are too many. Instead, we can resort to using a unicode encoding such as [UTF-8](https://fr.wikipedia.org/wiki/UTF-8) which encodes each unicode symbol on 1 to 4 bytes, meaning any sentence would be representing by a sequence of integers ranging from 0 to 255."
   ]
  },
  {
   "cell_type": "markdown",
   "metadata": {},
   "source": [
    "### *Further readings* : \n",
    "\n",
    "#### [A programmer's introduction to Unicode](https://www.reedbeta.com/blog/programmers-intro-to-unicode/) and [UTF-8 everywhere](https://utf8everywhere.org/)\n",
    "\n",
    "Unicode first draft proposal dates back to 1988, published py Joseph D. Becker. One interesting feature of UTF-8 is that it is *endianness independent* (independ of byte order).\n",
    "\n",
    "*UTF* (as in *UTF-8*) stands for *Unicode Transformation Format*. The Unicode *codespace* is the set of all possible Unicode *codepoints*. The codepoints are the integer identifiers for each assigned symbols, with a potential range from 0 to 1,114,111 (with only approximately 12% assigned). Each code point could be represented with 4 bytes, but this reveals to be wasteful for various reasons, one of them being that most used Unicode symbols have codepoints inferior to 65,536. The 3 main Unicode encodings are :\n",
    "- **UTF-8**: a *variable-length* encoding where symbols can be represented with 1 to 4 bytes depending on their codepoint\n",
    "- **UTF-16**: a *variable-length* encoding where symbols can be represented with 2 to 4 bytes depending on their codepoint\n",
    "- **UTF-32**: a *fixed-length* encoding where symbols are represented with exactly 4 bytes\n",
    "\n",
    "We call *code unit* the minimal number of bits that can be used to represent a unit of encoded text (8 bits for UTF-8, 16 for UTF-16 and 32 for UTF-32).\n",
    "\n",
    "The main advantage of variable-length encodings is memory saving, and their main drawback is that they are slower to compute.\n",
    "\n",
    "For UTF-8 (and UTF-16 likewise), how can we distinguish between single and multi-bytes sequences ? Sequences of different bytes-length use unique prefixes:\n",
    "\n",
    "| UTF-8 (binary)                      | Code point (binary)   | Range                               |\n",
    "|-------------------------------------|-----------------------|-------------------------------------|\n",
    "| 0xxxxxxx                            | xxxxxxx               | U+0000–U+007F (0-127)               |\n",
    "| 110xxxxx 10yyyyyy                   | xxxxxyyyyyy           | U+0080–U+07FF (128-2,047)           |\n",
    "| 1110xxxx 10yyyyyy 10zzzzzz          | xxxxyyyyyyzzzzzz      | U+0800–U+FFFF (2,048-65,535)        |\n",
    "| 11110xxx 10yyyyyy 10zzzzzz 10wwwwww | xxxyyyyyyzzzzzzwwwwww | U+10000–U+10FFFF (65,536-1,114,111) |\n",
    "\n",
    "Unicode symbols can be dynamically composed to form new characters (for instance, diacritics can be composed with letters). However, \"composed\" characters can have different representations resulting in the same rendering, and some composed characters even have their own codepoint in the Unicode standard! Hence the need for *normalization forms*, which reorder bytes according to certain rules, preserving the rendered characters but allowing for byte-to-byte comparison.\n",
    "\n",
    "A *grapheme cluster* is a \"user-perceived character\"; this notion is particularly useful in the context of text editors, since they are used for cursor placement and text selection boundaries."
   ]
  },
  {
   "cell_type": "code",
   "execution_count": 4,
   "metadata": {},
   "outputs": [
    {
     "name": "stdout",
     "output_type": "stream",
     "text": [
      "b\"\\xe3\\x81\\x8a\\xe3\\x81\\xaf\\xe3\\x82\\x88\\xe3\\x81\\x86\\xef\\xbc\\x81 It means 'hello' in Japanese :)\"\n",
      "[227, 129, 138, 227, 129, 175, 227, 130, 136, 227, 129, 134, 239, 188, 129, 32, 73, 116, 32, 109, 101, 97, 110, 115, 32, 39, 104, 101, 108, 108, 111, 39, 32, 105, 110, 32, 74, 97, 112, 97, 110, 101, 115, 101, 32, 58, 41]\n"
     ]
    }
   ],
   "source": [
    "my_utf8_string = my_string.encode(\"utf-8\")\n",
    "print(my_utf8_string)\n",
    "print(list(my_utf8_string))"
   ]
  },
  {
   "cell_type": "markdown",
   "metadata": {},
   "source": [
    "## Byte pair encoding\n",
    "\n",
    "Why do we need byte pair encoding ? Language models have a limited context window in which a token can attend to all previous tokens (for auto-regressive models), and UTF-8 representations of text strings are necessarily at least as long as the text's number of user-perceived characters. Byte pair encoding allows to find recurring patterns in a given \"training\" corpus, in order to add those patterns to the vocabulary, and thus reducing the number of tokens required to represent an average piece of text. In other words, byte pair encoding allows for statisticlly efficient information compression."
   ]
  },
  {
   "cell_type": "code",
   "execution_count": 5,
   "metadata": {},
   "outputs": [
    {
     "name": "stdout",
     "output_type": "stream",
     "text": [
      "Text: Ｕｎｉｃｏｄｅ! 🅤🅝🅘🅒🅞🅓🅔‽ 🇺‌🇳‌🇮‌🇨‌🇴‌🇩‌🇪! 😄 The very name strikes fear and awe into the hearts of programmers worldwide. We all know we ought to “support Unicode” in our software (whatever that means—like using wchar_t for all the strings, right?). But Unicode can be abstruse, and diving into the thousand-page Unicode Standard plus its dozens of supplementary annexes, reports, and notes can be more than a little intimidating. I don’t blame programmers for still finding the whole thing mysterious, even 30 years after Unicode’s inception.\n",
      "User-perceived characters: 533\n",
      "UTF-8 string bytes-length: 616\n"
     ]
    }
   ],
   "source": [
    "text = \"Ｕｎｉｃｏｄｅ! 🅤🅝🅘🅒🅞🅓🅔‽ 🇺‌🇳‌🇮‌🇨‌🇴‌🇩‌🇪! 😄 The very name strikes fear and awe into the hearts of programmers worldwide. We all know we ought to “support Unicode” in our software (whatever that means—like using wchar_t for all the strings, right?). But Unicode can be abstruse, and diving into the thousand-page Unicode Standard plus its dozens of supplementary annexes, reports, and notes can be more than a little intimidating. I don’t blame programmers for still finding the whole thing mysterious, even 30 years after Unicode’s inception.\"\n",
    "text_bytes = text.encode(\"utf-8\") # Convert text to bytes using UTF-8 encoding\n",
    "\n",
    "print(\"Text:\", text)\n",
    "print(\"User-perceived characters:\", len(text))\n",
    "print(\"UTF-8 string bytes-length:\", len(text_bytes))"
   ]
  },
  {
   "cell_type": "markdown",
   "metadata": {},
   "source": [
    "The variable `text_bytes` is, as suggested by its name, a Python [bytes object](https://docs.python.org/3/library/stdtypes.html#bytes-objects). Bytes objects are *immutable sequences* of single bytes, i.e integers ranging from 0 to 255 (the mutable counterpart type is `bytearray`). When iterating over or indexing in a `bytes` object, integers are returned."
   ]
  },
  {
   "cell_type": "code",
   "execution_count": 6,
   "metadata": {},
   "outputs": [],
   "source": [
    "from collections import Counter\n",
    "\n",
    "def get_pair_counts(text_bytes: list[int]) -> Counter:\n",
    "    return Counter(\n",
    "        zip(text_bytes, text_bytes[1:])\n",
    "    )"
   ]
  },
  {
   "cell_type": "code",
   "execution_count": 7,
   "metadata": {},
   "outputs": [
    {
     "name": "stdout",
     "output_type": "stream",
     "text": [
      "Counter({(101, 32): 20, (240, 159): 15, (226, 128): 12, (105, 110): 12, (115, 32): 10, (32, 97): 10, (97, 110): 10, (32, 116): 9, (116, 104): 8, (159, 133): 7, (159, 135): 7, (97, 114): 7, (239, 189): 6, (128, 140): 6, (140, 240): 6, (104, 101): 6, (101, 114): 6, (109, 101): 6, (114, 32): 6, (110, 100): 6, (32, 105): 6, (111, 114): 6, (116, 32): 6, (110, 103): 6, (32, 115): 5, (115, 116): 5, (100, 101): 5, (110, 32): 5, (117, 115): 5, (44, 32): 5, (97, 109): 4, (114, 105): 4, (32, 102): 4, (101, 97): 4, (100, 32): 4, (110, 116): 4, (32, 111): 4, (32, 119): 4, (111, 117): 4, (32, 85): 4, (85, 110): 4, (110, 105): 4, (105, 99): 4, (99, 111): 4, (111, 100): 4, (104, 97): 4, (116, 101): 4, (103, 32): 4, (115, 44): 4, (116, 105): 4, (32, 240): 3, (118, 101): 3, (116, 114): 3, (101, 115): 3, (116, 111): 3, (111, 32): 3, (114, 116): 3, (116, 115): 3, (111, 102): 3, (32, 112): 3, (114, 115): 3, (46, 32): 3, (108, 108): 3, (108, 32): 3, (114, 101): 3, (97, 116): 3, (32, 109): 3, (32, 98): 3, (32, 100): 3, (101, 110): 3, (108, 101): 3, (33, 32): 2, (114, 121): 2, (121, 32): 2, (32, 110): 2, (105, 107): 2, (107, 101): 2, (119, 101): 2, (102, 32): 2, (112, 114): 2, (114, 111): 2, (111, 103): 2, (103, 114): 2, (114, 97): 2, (109, 109): 2, (105, 100): 2, (97, 108): 2, (110, 111): 2, (103, 104): 2, (104, 116): 2, (115, 117): 2, (117, 112): 2, (112, 112): 2, (112, 111): 2, (101, 226): 2, (102, 116): 2, (119, 104): 2, (101, 118): 2, (110, 115): 2, (108, 105): 2, (102, 111): 2, (32, 114): 2, (32, 99): 2, (99, 97): 2, (98, 101): 2, (100, 105): 2, (104, 111): 2, (116, 97): 2, (100, 97): 2, (112, 108): 2, (105, 116): 2, (100, 111): 2, (101, 112): 2, (111, 110): 2, (128, 153): 2, (105, 111): 2, (239, 188): 1, (188, 181): 1, (181, 239): 1, (189, 142): 1, (142, 239): 1, (189, 137): 1, (137, 239): 1, (189, 131): 1, (131, 239): 1, (189, 143): 1, (143, 239): 1, (189, 132): 1, (132, 239): 1, (189, 133): 1, (133, 33): 1, (133, 164): 1, (164, 240): 1, (133, 157): 1, (157, 240): 1, (133, 152): 1, (152, 240): 1, (133, 146): 1, (146, 240): 1, (133, 158): 1, (158, 240): 1, (133, 147): 1, (147, 240): 1, (133, 148): 1, (148, 226): 1, (128, 189): 1, (189, 32): 1, (135, 186): 1, (186, 226): 1, (135, 179): 1, (179, 226): 1, (135, 174): 1, (174, 226): 1, (135, 168): 1, (168, 226): 1, (135, 180): 1, (180, 226): 1, (135, 169): 1, (169, 226): 1, (135, 170): 1, (170, 33): 1, (159, 152): 1, (152, 132): 1, (132, 32): 1, (32, 84): 1, (84, 104): 1, (32, 118): 1, (110, 97): 1, (102, 101): 1, (97, 119): 1, (32, 104): 1, (119, 111): 1, (114, 108): 1, (108, 100): 1, (100, 119): 1, (119, 105): 1, (101, 46): 1, (32, 87): 1, (87, 101): 1, (32, 107): 1, (107, 110): 1, (111, 119): 1, (119, 32): 1, (117, 103): 1, (32, 226): 1, (128, 156): 1, (156, 115): 1, (128, 157): 1, (157, 32): 1, (117, 114): 1, (115, 111): 1, (116, 119): 1, (119, 97): 1, (32, 40): 1, (40, 119): 1, (115, 226): 1, (128, 148): 1, (148, 108): 1, (32, 117): 1, (115, 105): 1, (119, 99): 1, (99, 104): 1, (114, 95): 1, (95, 116): 1, (103, 115): 1, (105, 103): 1, (116, 63): 1, (63, 41): 1, (41, 46): 1, (32, 66): 1, (66, 117): 1, (117, 116): 1, (97, 98): 1, (98, 115): 1, (114, 117): 1, (115, 101): 1, (101, 44): 1, (105, 118): 1, (118, 105): 1, (115, 97): 1, (100, 45): 1, (45, 112): 1, (112, 97): 1, (97, 103): 1, (103, 101): 1, (32, 83): 1, (83, 116): 1, (114, 100): 1, (108, 117): 1, (111, 122): 1, (122, 101): 1, (101, 109): 1, (110, 110): 1, (110, 101): 1, (101, 120): 1, (120, 101): 1, (111, 116): 1, (109, 111): 1, (97, 32): 1, (32, 108): 1, (116, 116): 1, (116, 108): 1, (105, 109): 1, (109, 105): 1, (103, 46): 1, (32, 73): 1, (73, 32): 1, (110, 226): 1, (153, 116): 1, (98, 108): 1, (108, 97): 1, (105, 108): 1, (102, 105): 1, (111, 108): 1, (104, 105): 1, (109, 121): 1, (121, 115): 1, (32, 101): 1, (32, 51): 1, (51, 48): 1, (48, 32): 1, (32, 121): 1, (121, 101): 1, (97, 102): 1, (153, 115): 1, (110, 99): 1, (99, 101): 1, (112, 116): 1, (110, 46): 1})\n"
     ]
    }
   ],
   "source": [
    "counts = get_pair_counts(text_bytes)\n",
    "print(counts)"
   ]
  },
  {
   "cell_type": "code",
   "execution_count": 8,
   "metadata": {},
   "outputs": [
    {
     "name": "stdout",
     "output_type": "stream",
     "text": [
      "{'e ': 20, 'ð\\x9f': 15, 'â\\x80': 12, 'in': 12, 's ': 10, ' a': 10, 'an': 10, ' t': 9, 'th': 8, '\\x9f\\x85': 7, '\\x9f\\x87': 7, 'ar': 7, 'ï½': 6, '\\x80\\x8c': 6, '\\x8cð': 6, 'he': 6, 'er': 6, 'me': 6, 'r ': 6, 'nd': 6, ' i': 6, 'or': 6, 't ': 6, 'ng': 6, ' s': 5, 'st': 5, 'de': 5, 'n ': 5, 'us': 5, ', ': 5, 'am': 4, 'ri': 4, ' f': 4, 'ea': 4, 'd ': 4, 'nt': 4, ' o': 4, ' w': 4, 'ou': 4, ' U': 4, 'Un': 4, 'ni': 4, 'ic': 4, 'co': 4, 'od': 4, 'ha': 4, 'te': 4, 'g ': 4, 's,': 4, 'ti': 4, ' ð': 3, 've': 3, 'tr': 3, 'es': 3, 'to': 3, 'o ': 3, 'rt': 3, 'ts': 3, 'of': 3, ' p': 3, 'rs': 3, '. ': 3, 'll': 3, 'l ': 3, 're': 3, 'at': 3, ' m': 3, ' b': 3, ' d': 3, 'en': 3, 'le': 3, '! ': 2, 'ry': 2, 'y ': 2, ' n': 2, 'ik': 2, 'ke': 2, 'we': 2, 'f ': 2, 'pr': 2, 'ro': 2, 'og': 2, 'gr': 2, 'ra': 2, 'mm': 2, 'id': 2, 'al': 2, 'no': 2, 'gh': 2, 'ht': 2, 'su': 2, 'up': 2, 'pp': 2, 'po': 2, 'eâ': 2, 'ft': 2, 'wh': 2, 'ev': 2, 'ns': 2, 'li': 2, 'fo': 2, ' r': 2, ' c': 2, 'ca': 2, 'be': 2, 'di': 2, 'ho': 2, 'ta': 2, 'da': 2, 'pl': 2, 'it': 2, 'do': 2, 'ep': 2, 'on': 2, '\\x80\\x99': 2, 'io': 2, 'ï¼': 1, '¼µ': 1, 'µï': 1, '½\\x8e': 1, '\\x8eï': 1, '½\\x89': 1, '\\x89ï': 1, '½\\x83': 1, '\\x83ï': 1, '½\\x8f': 1, '\\x8fï': 1, '½\\x84': 1, '\\x84ï': 1, '½\\x85': 1, '\\x85!': 1, '\\x85¤': 1, '¤ð': 1, '\\x85\\x9d': 1, '\\x9dð': 1, '\\x85\\x98': 1, '\\x98ð': 1, '\\x85\\x92': 1, '\\x92ð': 1, '\\x85\\x9e': 1, '\\x9eð': 1, '\\x85\\x93': 1, '\\x93ð': 1, '\\x85\\x94': 1, '\\x94â': 1, '\\x80½': 1, '½ ': 1, '\\x87º': 1, 'ºâ': 1, '\\x87³': 1, '³â': 1, '\\x87®': 1, '®â': 1, '\\x87¨': 1, '¨â': 1, '\\x87´': 1, '´â': 1, '\\x87©': 1, '©â': 1, '\\x87ª': 1, 'ª!': 1, '\\x9f\\x98': 1, '\\x98\\x84': 1, '\\x84 ': 1, ' T': 1, 'Th': 1, ' v': 1, 'na': 1, 'fe': 1, 'aw': 1, ' h': 1, 'wo': 1, 'rl': 1, 'ld': 1, 'dw': 1, 'wi': 1, 'e.': 1, ' W': 1, 'We': 1, ' k': 1, 'kn': 1, 'ow': 1, 'w ': 1, 'ug': 1, ' â': 1, '\\x80\\x9c': 1, '\\x9cs': 1, '\\x80\\x9d': 1, '\\x9d ': 1, 'ur': 1, 'so': 1, 'tw': 1, 'wa': 1, ' (': 1, '(w': 1, 'sâ': 1, '\\x80\\x94': 1, '\\x94l': 1, ' u': 1, 'si': 1, 'wc': 1, 'ch': 1, 'r_': 1, '_t': 1, 'gs': 1, 'ig': 1, 't?': 1, '?)': 1, ').': 1, ' B': 1, 'Bu': 1, 'ut': 1, 'ab': 1, 'bs': 1, 'ru': 1, 'se': 1, 'e,': 1, 'iv': 1, 'vi': 1, 'sa': 1, 'd-': 1, '-p': 1, 'pa': 1, 'ag': 1, 'ge': 1, ' S': 1, 'St': 1, 'rd': 1, 'lu': 1, 'oz': 1, 'ze': 1, 'em': 1, 'nn': 1, 'ne': 1, 'ex': 1, 'xe': 1, 'ot': 1, 'mo': 1, 'a ': 1, ' l': 1, 'tt': 1, 'tl': 1, 'im': 1, 'mi': 1, 'g.': 1, ' I': 1, 'I ': 1, 'nâ': 1, '\\x99t': 1, 'bl': 1, 'la': 1, 'il': 1, 'fi': 1, 'ol': 1, 'hi': 1, 'my': 1, 'ys': 1, ' e': 1, ' 3': 1, '30': 1, '0 ': 1, ' y': 1, 'ye': 1, 'af': 1, '\\x99s': 1, 'nc': 1, 'ce': 1, 'pt': 1, 'n.': 1}\n"
     ]
    }
   ],
   "source": [
    "print({\n",
    "    chr(byte_a) + chr(byte_b): counts[(byte_a, byte_b)]\n",
    "    for (byte_a, byte_b) in sorted(counts, key=counts.get, reverse=True)\n",
    "    })"
   ]
  },
  {
   "cell_type": "markdown",
   "metadata": {},
   "source": [
    "We see that the displayed characters do not necessarily appear in the text : that's because we counted byte pairs, and not user-perceived characters."
   ]
  },
  {
   "cell_type": "code",
   "execution_count": 9,
   "metadata": {},
   "outputs": [
    {
     "name": "stdout",
     "output_type": "stream",
     "text": [
      "[1, 2, 3, 2, 1000, 3, 1000]\n"
     ]
    }
   ],
   "source": [
    "def merge(\n",
    "    token_ids: list[int] | bytes, \n",
    "    id_pair: tuple[int, int], \n",
    "    new_id: int\n",
    ") -> list[int]:\n",
    "    new_ids = []\n",
    "    index = 0\n",
    "\n",
    "    while index < len(token_ids) - 1:\n",
    "        if (token_ids[index], token_ids[index + 1]) == id_pair:\n",
    "            new_ids.append(new_id)\n",
    "            index += 2\n",
    "        else:\n",
    "            new_ids.append(token_ids[index])\n",
    "            index += 1\n",
    "    \n",
    "    if index == len(token_ids) - 1:\n",
    "        new_ids.append(token_ids[index])\n",
    "        \n",
    "    return new_ids\n",
    "\n",
    "print(merge([1, 2, 3, 2, 4, 5, 3, 4, 5], (4, 5), 1_000))"
   ]
  },
  {
   "cell_type": "code",
   "execution_count": 10,
   "metadata": {},
   "outputs": [
    {
     "name": "stdout",
     "output_type": "stream",
     "text": [
      "Original length: 616\n",
      "New length:      596\n"
     ]
    }
   ],
   "source": [
    "new_text_bytes = merge(text_bytes, max(counts, key=counts.get), 256)\n",
    "\n",
    "print(\"Original length:\", len(text_bytes))\n",
    "print(\"New length:     \", len(new_text_bytes))"
   ]
  },
  {
   "cell_type": "code",
   "execution_count": 11,
   "metadata": {},
   "outputs": [],
   "source": [
    "def bpe(training_text: str, target_vocabulary_size: int) -> dict[int, tuple[int, int]]:\n",
    "    training_data = training_text.encode(\"utf-8\")\n",
    "    initial_vocabulary_size = len(set(training_data))\n",
    "    substitution_table = {}\n",
    "\n",
    "    while len(substitution_table) < target_vocabulary_size - initial_vocabulary_size:\n",
    "        counts = get_pair_counts(training_data)\n",
    "        most_frequent_pair = max(counts, key=counts.get)\n",
    "        new_id = 256 + len(substitution_table)\n",
    "        substitution_table[most_frequent_pair] = new_id\n",
    "        training_data = merge(training_data, most_frequent_pair, new_id)\n",
    "\n",
    "    return substitution_table"
   ]
  },
  {
   "cell_type": "code",
   "execution_count": 12,
   "metadata": {},
   "outputs": [
    {
     "data": {
      "text/plain": [
       "{(101, 32): 256, (240, 159): 257}"
      ]
     },
     "execution_count": 12,
     "metadata": {},
     "output_type": "execute_result"
    }
   ],
   "source": [
    "bpe(text, 75)"
   ]
  },
  {
   "cell_type": "code",
   "execution_count": 13,
   "metadata": {},
   "outputs": [],
   "source": [
    "training_text = \"\"\"The Many Meanings of “Shader”Quadrilateral Interpolation, Part 2\n",
    "A Programmer’s Introduction to Unicode\n",
    "March 3, 2017 · Coding · 25 Comments\n",
    "\n",
    "Ｕｎｉｃｏｄｅ! 🅤🅝🅘🅒🅞🅓🅔‽ 🇺‌🇳‌🇮‌🇨‌🇴‌🇩‌🇪! 😄 The very name strikes fear and awe into the hearts of programmers worldwide. We all know we ought to “support Unicode” in our software (whatever that means—like using wchar_t for all the strings, right?). But Unicode can be abstruse, and diving into the thousand-page Unicode Standard plus its dozens of supplementary annexes, reports, and notes can be more than a little intimidating. I don’t blame programmers for still finding the whole thing mysterious, even 30 years after Unicode’s inception.\n",
    "\n",
    "A few months ago, I got interested in Unicode and decided to spend some time learning more about it in detail. In this article, I’ll give an introduction to it from a programmer’s point of view.\n",
    "\n",
    "I’m going to focus on the character set and what’s involved in working with strings and files of Unicode text. However, in this article I’m not going to talk about fonts, text layout/shaping/rendering, or localization in detail—those are separate issues, beyond my scope (and knowledge) here.\n",
    "\n",
    "Diversity and Inherent Complexity\n",
    "The Unicode Codespace\n",
    "Codespace Allocation\n",
    "Scripts\n",
    "Usage Frequency\n",
    "Encodings\n",
    "UTF-8\n",
    "UTF-16\n",
    "Combining Marks\n",
    "Canonical Equivalence\n",
    "Normalization Forms\n",
    "Grapheme Clusters\n",
    "And More…\n",
    "Diversity and Inherent Complexity\n",
    "As soon as you start to study Unicode, it becomes clear that it represents a large jump in complexity over character sets like ASCII that you may be more familiar with. It’s not just that Unicode contains a much larger number of characters, although that’s part of it. Unicode also has a great deal of internal structure, features, and special cases, making it much more than what one might expect a mere “character set” to be. We’ll see some of that later in this article.\n",
    "\n",
    "When confronting all this complexity, especially as an engineer, it’s hard not to find oneself asking, “Why do we need all this? Is this really necessary? Couldn’t it be simplified?”\n",
    "\n",
    "However, Unicode aims to faithfully represent the entire world’s writing systems. The Unicode Consortium’s stated goal is “enabling people around the world to use computers in any language”. And as you might imagine, the diversity of written languages is immense! To date, Unicode supports 135 different scripts, covering some 1100 languages, and there’s still a long tail of over 100 unsupported scripts, both modern and historical, which people are still working to add.\n",
    "\n",
    "Given this enormous diversity, it’s inevitable that representing it is a complicated project. Unicode embraces that diversity, and accepts the complexity inherent in its mission to include all human writing systems. It doesn’t make a lot of trade-offs in the name of simplification, and it makes exceptions to its own rules where necessary to further its mission.\n",
    "\n",
    "Moreover, Unicode is committed not just to supporting texts in any single language, but also to letting multiple languages coexist within one text—which introduces even more complexity.\n",
    "\n",
    "Most programming languages have libraries available to handle the gory low-level details of text manipulation, but as a programmer, you’ll still need to know about certain Unicode features in order to know when and how to apply them. It may take some time to wrap your head around it all, but don’t be discouraged—think about the billions of people for whom your software will be more accessible through supporting text in their language. Embrace the complexity!\n",
    "\n",
    "The Unicode Codespace\n",
    "Let’s start with some general orientation. The basic elements of Unicode—its “characters”, although that term isn’t quite right—are called code points. Code points are identified by number, customarily written in hexadecimal with the prefix “U+”, such as U+0041 “A” latin capital letter a or U+03B8 “θ” greek small letter theta. Each code point also has a short name, and quite a few other properties, specified in the Unicode Character Database.\n",
    "\n",
    "The set of all possible code points is called the codespace. The Unicode codespace consists of 1,114,112 code points. However, only 128,237 of them—about 12% of the codespace—are actually assigned, to date. There’s plenty of room for growth! Unicode also reserves an additional 137,468 code points as “private use” areas, which have no standardized meaning and are available for individual applications to define for their own purposes.\n",
    "\n",
    "Codespace Allocation\n",
    "To get a feel for how the codespace is laid out, it’s helpful to visualize it. Below is a map of the entire codespace, with one pixel per code point. It’s arranged in tiles for visual coherence; each small square is 16×16 = 256 code points, and each large square is a “plane” of 65,536 code points. There are 17 planes altogether.\n",
    "\n",
    "Map of the Unicode codespace (click to zoom)\n",
    "\n",
    "White represents unassigned space. Blue is assigned code points, green is private-use areas, and the small red area is surrogates (more about those later). As you can see, the assigned code points are distributed somewhat sparsely, but concentrated in the first three planes.\n",
    "\n",
    "Plane 0 is also known as the “Basic Multilingual Plane”, or BMP. The BMP contains essentially all the characters needed for modern text in any script, including Latin, Cyrillic, Greek, Han (Chinese), Japanese, Korean, Arabic, Hebrew, Devanagari (Indian), and many more.\n",
    "\n",
    "(In the past, the codespace was just the BMP and no more—Unicode was originally conceived as a straightforward 16-bit encoding, with only 65,536 code points. It was expanded to its current size in 1996. However, the vast majority of code points in modern text belong to the BMP.)\n",
    "\n",
    "Plane 1 contains historical scripts, such as Sumerian cuneiform and Egyptian hieroglyphs, as well as emoji and various other symbols. Plane 2 contains a large block of less-common and historical Han characters. The remaining planes are empty, except for a small number of rarely-used formatting characters in Plane 14; planes 15–16 are reserved entirely for private use.\n",
    "\n",
    "Scripts\n",
    "Let’s zoom in on the first three planes, since that’s where the action is:\n",
    "\n",
    "Map of scripts in Unicode planes 0–2 (click to zoom)\n",
    "\n",
    "This map color-codes the 135 different scripts in Unicode. You can see how Han () and Korean () take up most of the range of the BMP (the left large square). By contrast, all of the European, Middle Eastern, and South Asian scripts fit into the first row of the BMP in this diagram.\n",
    "\n",
    "Many areas of the codespace are adapted or copied from earlier encodings. For example, the first 128 code points of Unicode are just a copy of ASCII. This has clear benefits for compatibility—it’s easy to losslessly convert texts from smaller encodings into Unicode (and the other direction too, as long as no characters outside the smaller encoding are used).\n",
    "\n",
    "Usage Frequency\n",
    "One more interesting way to visualize the codespace is to look at the distribution of usage—in other words, how often each code point is actually used in real-world texts. Below is a heat map of planes 0–2 based on a large sample of text from Wikipedia and Twitter (all languages). Frequency increases from black (never seen) through red and yellow to white.\n",
    "\n",
    "Heat map of code point usage frequency in Unicode planes 0–2 (click to zoom)\n",
    "\n",
    "You can see that the vast majority of this text sample lies in the BMP, with only scattered usage of code points from planes 1–2. The biggest exception is emoji, which show up here as the several bright squares in the bottom row of plane 1.\n",
    "\n",
    "Encodings\n",
    "We’ve seen that Unicode code points are abstractly identified by their index in the codespace, ranging from U+0000 to U+10FFFF. But how do code points get represented as bytes, in memory or in a file?\n",
    "\n",
    "The most convenient, computer-friendliest (and programmer-friendliest) thing to do would be to just store the code point index as a 32-bit integer. This works, but it consumes 4 bytes per code point, which is sort of a lot. Using 32-bit ints for Unicode will cost you a bunch of extra storage, memory, and performance in bandwidth-bound scenarios, if you work with a lot of text.\n",
    "\n",
    "Consequently, there are several more-compact encodings for Unicode. The 32-bit integer encoding is officially called UTF-32 (UTF = “Unicode Transformation Format”), but it’s rarely used for storage. At most, it comes up sometimes as a temporary internal representation, for examining or operating on the code points in a string.\n",
    "\n",
    "Much more commonly, you’ll see Unicode text encoded as either UTF-8 or UTF-16. These are both variable-length encodings, made up of 8-bit or 16-bit units, respectively. In these schemes, code points with smaller index values take up fewer bytes, which saves a lot of memory for typical texts. The trade-off is that processing UTF-8/16 texts is more programmatically involved, and likely slower.\n",
    "\n",
    "UTF-8\n",
    "In UTF-8, each code point is stored using 1 to 4 bytes, based on its index value.\n",
    "\n",
    "UTF-8 uses a system of binary prefixes, in which the high bits of each byte mark whether it’s a single byte, the beginning of a multi-byte sequence, or a continuation byte; the remaining bits, concatenated, give the code point index. This table shows how it works:\n",
    "\n",
    "UTF-8 (binary)\tCode point (binary)\tRange\n",
    "0xxxxxxx\txxxxxxx\tU+0000–U+007F\n",
    "110xxxxx 10yyyyyy\txxxxxyyyyyy\tU+0080–U+07FF\n",
    "1110xxxx 10yyyyyy 10zzzzzz\txxxxyyyyyyzzzzzz\tU+0800–U+FFFF\n",
    "11110xxx 10yyyyyy 10zzzzzz 10wwwwww\txxxyyyyyyzzzzzzwwwwww\tU+10000–U+10FFFF\n",
    "A handy property of UTF-8 is that code points below 128 (ASCII characters) are encoded as single bytes, and all non-ASCII code points are encoded using sequences of bytes 128–255. This has a couple of nice consequences. First, any strings or files out there that are already in ASCII can also be interpreted as UTF-8 without any conversion. Second, lots of widely-used string programming idioms—such as null termination, or delimiters (newlines, tabs, commas, slashes, etc.)—will just work on UTF-8 strings. ASCII bytes never occur inside the encoding of non-ASCII code points, so searching byte-wise for a null terminator or a delimiter will do the right thing.\n",
    "\n",
    "Thanks to this convenience, it’s relatively simple to extend legacy ASCII programs and APIs to handle UTF-8 strings. UTF-8 is very widely used in the Unix/Linux and Web worlds, and many programmers argue UTF-8 should be the default encoding everywhere.\n",
    "\n",
    "However, UTF-8 isn’t a drop-in replacement for ASCII strings in all respects. For instance, code that iterates over the “characters” in a string will need to decode UTF-8 and iterate over code points (or maybe grapheme clusters—more about those later), not bytes. When you measure the “length” of a string, you’ll need to think about whether you want the length in bytes, the length in code points, the width of the text when rendered, or something else.\n",
    "\n",
    "UTF-16\n",
    "The other encoding that you’re likely to encounter is UTF-16. It uses 16-bit words, with each code point stored as either 1 or 2 words.\n",
    "\n",
    "Like UTF-8, we can express the UTF-16 encoding rules in the form of binary prefixes:\n",
    "\n",
    "UTF-16 (binary)\tCode point (binary)\tRange\n",
    "xxxxxxxxxxxxxxxx\txxxxxxxxxxxxxxxx\tU+0000–U+FFFF\n",
    "110110xxxxxxxxxx 110111yyyyyyyyyy\txxxxxxxxxxyyyyyyyyyy + 0x10000\tU+10000–U+10FFFF\n",
    "A more common way that people talk about UTF-16 encoding, though, is in terms of code points called “surrogates”. All the code points in the range U+D800–U+DFFF—or in other words, the code points that match the binary prefixes 110110 and 110111 in the table above—are reserved specifically for UTF-16 encoding, and don’t represent any valid characters on their own. They’re only meant to occur in the 2-word encoding pattern above, which is called a “surrogate pair”. Surrogate code points are illegal in any other context! They’re not allowed in UTF-8 or UTF-32 at all.\n",
    "\n",
    "Historically, UTF-16 is a descendant of the original, pre-1996 versions of Unicode, in which there were only 65,536 code points. The original intention was that there would be no different “encodings”; Unicode was supposed to be a straightforward 16-bit character set. Later, the codespace was expanded to make room for a long tail of less-common (but still important) Han characters, which the Unicode designers didn’t originally plan for. Surrogates were then introduced, as—to put it bluntly—a kludge, allowing 16-bit encodings to access the new code points.\n",
    "\n",
    "Today, Javascript uses UTF-16 as its standard string representation: if you ask for the length of a string, or iterate over it, etc., the result will be in UTF-16 words, with any code points outside the BMP expressed as surrogate pairs. UTF-16 is also used by the Microsoft Win32 APIs; though Win32 supports either 8-bit or 16-bit strings, the 8-bit version unaccountably still doesn’t support UTF-8—only legacy code-page encodings, like ANSI. This leaves UTF-16 as the only way to get proper Unicode support in Windows. (Update: in Win10 version 1903, they finally added UTF-8 support to the 8-bit APIs! 😊)\n",
    "\n",
    "By the way, UTF-16’s words can be stored either little-endian or big-endian. Unicode has no opinion on that issue, though it does encourage the convention of putting U+FEFF zero width no-break space at the top of a UTF-16 file as a byte-order mark, to disambiguate the endianness. (If the file doesn’t match the system’s endianness, the BOM will be decoded as U+FFFE, which isn’t a valid code point.)\n",
    "\n",
    "Combining Marks\n",
    "In the story so far, we’ve been focusing on code points. But in Unicode, a “character” can be more complicated than just an individual code point!\n",
    "\n",
    "Unicode includes a system for dynamically composing characters, by combining multiple code points together. This is used in various ways to gain flexibility without causing a huge combinatorial explosion in the number of code points.\n",
    "\n",
    "In European languages, for example, this shows up in the application of diacritics to letters. Unicode supports a wide range of diacritics, including acute and grave accents, umlauts, cedillas, and many more. All these diacritics can be applied to any letter of any alphabet—and in fact, multiple diacritics can be used on a single letter.\n",
    "\n",
    "If Unicode tried to assign a distinct code point to every possible combination of letter and diacritics, things would rapidly get out of hand. Instead, the dynamic composition system enables you to construct the character you want, by starting with a base code point (the letter) and appending additional code points, called “combining marks”, to specify the diacritics. When a text renderer sees a sequence like this in a string, it automatically stacks the diacritics over or under the base letter to create a composed character.\n",
    "\n",
    "For example, the accented character “Á” can be expressed as a string of two code points: U+0041 “A” latin capital letter a plus U+0301 “◌́” combining acute accent. This string automatically gets rendered as a single character: “Á”.\n",
    "\n",
    "Now, Unicode does also include many “precomposed” code points, each representing a letter with some combination of diacritics already applied, such as U+00C1 “Á” latin capital letter a with acute or U+1EC7 “ệ” latin small letter e with circumflex and dot below. I suspect these are mostly inherited from older encodings that were assimilated into Unicode, and kept around for compatibility. In practice, there are precomposed code points for most of the common letter-with-diacritic combinations in European-script languages, so they don’t use dynamic composition that much in typical text.\n",
    "\n",
    "Still, the system of combining marks does allow for an arbitrary number of diacritics to be stacked on any base character. The reductio-ad-absurdum of this is Zalgo text, which works by ͖͟ͅr͞aṋ̫̠̖͈̗d͖̻̹óm̪͙͕̗̝ļ͇̰͓̳̫ý͓̥̟͍ ̕s̫t̫̱͕̗̰̼̘͜a̼̩͖͇̠͈̣͝c̙͍k̖̱̹͍͘i̢n̨̺̝͇͇̟͙ģ̫̮͎̻̟ͅ ̕n̼̺͈͞u̮͙m̺̭̟̗͞e̞͓̰̤͓̫r̵o̖ṷs҉̪͍̭̬̝̤ ̮͉̝̞̗̟͠d̴̟̜̱͕͚i͇̫̼̯̭̜͡ḁ͙̻̼c̲̲̹r̨̠̹̣̰̦i̱t̤̻̤͍͙̘̕i̵̜̭̤̱͎c̵s ͘o̱̲͈̙͖͇̲͢n͘ ̜͈e̬̲̠̩ac͕̺̠͉h̷̪ ̺̣͖̱ḻ̫̬̝̹ḙ̙̺͙̭͓̲t̞̞͇̲͉͍t̷͔̪͉̲̻̠͙e̦̻͈͉͇r͇̭̭̬͖,̖́ ̜͙͓̣̭s̘̘͈o̱̰̤̲ͅ ̛̬̜̙t̼̦͕̱̹͕̥h̳̲͈͝ͅa̦t̻̲ ̻̟̭̦̖t̛̰̩h̠͕̳̝̫͕e͈̤̘͖̞͘y҉̝͙ ̷͉͔̰̠o̞̰v͈͈̳̘͜er̶f̰͈͔ḻ͕̘̫̺̲o̲̭͙͠ͅw̱̳̺ ͜t̸h͇̭͕̳͍e̖̯̟̠ ͍̞̜͔̩̪͜ļ͎̪̲͚i̝̲̹̙̩̹n̨̦̩̖ḙ̼̲̼͢ͅ ̬͝s̼͚̘̞͝p͙̘̻a̙c҉͉̜̤͈̯̖i̥͡n̦̠̱͟g̸̗̻̦̭̮̟ͅ ̳̪̠͖̳̯̕a̫͜n͝d͡ ̣̦̙ͅc̪̗r̴͙̮̦̹̳e͇͚̞͔̹̫͟a̙̺̙ț͔͎̘̹ͅe̥̩͍ a͖̪̜̮͙̹n̢͉̝ ͇͉͓̦̼́a̳͖̪̤̱p̖͔͔̟͇͎͠p̱͍̺ę̲͎͈̰̲̤̫a̯͜r̨̮̫̣̘a̩̯͖n̹̦̰͎̣̞̞c̨̦̱͔͎͍͖e̬͓͘ ̤̰̩͙̤̬͙o̵̼̻̬̻͇̮̪f̴ ̡̙̭͓͖̪̤“̸͙̠̼c̳̗͜o͏̼͙͔̮r̞̫̺̞̥̬ru̺̻̯͉̭̻̯p̰̥͓̣̫̙̤͢t̳͍̳̖ͅi̶͈̝͙̼̙̹o̡͔n̙̺̹̖̩͝ͅ”̨̗͖͚̩.̯͓\n",
    "\n",
    "A few other places where dynamic character composition shows up in Unicode:\n",
    "\n",
    "Vowel-pointing notation in Arabic and Hebrew. In these languages, words are normally spelled with some of their vowels left out. They then have diacritic notation to indicate the vowels (used in dictionaries, language-teaching materials, children’s books, and such). These diacritics are expressed with combining marks.\n",
    "A Hebrew example, with niqqud:\tאֶת דַלְתִּי הֵזִיז הֵנִיעַ, קֶטֶב לִשְׁכַּתִּי יָשׁוֹד\n",
    "Normal writing (no niqqud):\tאת דלתי הזיז הניע, קטב לשכתי ישוד\n",
    "Devanagari, the script used to write Hindi, Sanskrit, and many other South Asian languages, expresses certain vowels as combining marks attached to consonant letters. For example, “ह” + “​ि” = “हि” (“h” + “i” = “hi”).\n",
    "\n",
    "Korean characters stand for syllables, but they are composed of letters called jamo that stand for the vowels and consonants in the syllable. While there are code points for precomposed Korean syllables, it’s also possible to dynamically compose them by concatenating their jamo. For example, “ᄒ” + “ᅡ” + “ᆫ” = “한” (“h” + “a” + “n” = “han”).\n",
    "\n",
    "Canonical Equivalence\n",
    "In Unicode, precomposed characters exist alongside the dynamic composition system. A consequence of this is that there are multiple ways to express “the same” string—different sequences of code points that result in the same user-perceived characters. For example, as we saw earlier, we can express the character “Á” either as the single code point U+00C1, or as the string of two code points U+0041 U+0301.\n",
    "\n",
    "Another source of ambiguity is the ordering of multiple diacritics in a single character. Diacritic order matters visually when two diacritics apply to the same side of the base character, e.g. both above: “ǡ” (dot, then macron) is different from “ā̇” (macron, then dot). However, when diacritics apply to different sides of the character, e.g. one above and one below, then the order doesn’t affect rendering. Moreover, a character with multiple diacritics might have one of the diacritics precomposed and others expressed as combining marks.\n",
    "\n",
    "For example, the Vietnamese letter “ệ” can be expressed in five different ways:\n",
    "\n",
    "Fully precomposed: U+1EC7 “ệ”\n",
    "Partially precomposed: U+1EB9 “ẹ” + U+0302 “◌̂”\n",
    "Partially precomposed: U+00EA “ê” + U+0323 “◌̣”\n",
    "Fully decomposed: U+0065 “e” + U+0323 “◌̣” + U+0302 “◌̂”\n",
    "Fully decomposed: U+0065 “e” + U+0302 “◌̂” + U+0323 “◌̣”\n",
    "Unicode refers to set of strings like this as “canonically equivalent”. Canonically equivalent strings are supposed to be treated as identical for purposes of searching, sorting, rendering, text selection, and so on. This has implications for how you implement operations on text. For example, if an app has a “find in file” operation and the user searches for “ệ”, it should, by default, find occurrences of any of the five versions of “ệ” above!\n",
    "\n",
    "Normalization Forms\n",
    "To address the problem of “how to handle canonically equivalent strings”, Unicode defines several normalization forms: ways of converting strings into a canonical form so that they can be compared code-point-by-code-point (or byte-by-byte).\n",
    "\n",
    "The “NFD” normalization form fully decomposes every character down to its component base and combining marks, taking apart any precomposed code points in the string. It also sorts the combining marks in each character according to their rendered position, so e.g. diacritics that go below the character come before the ones that go above the character. (It doesn’t reorder diacritics in the same rendered position, since their order matters visually, as previously mentioned.)\n",
    "\n",
    "The “NFC” form, conversely, puts things back together into precomposed code points as much as possible. If an unusual combination of diacritics is called for, there may not be any precomposed code point for it, in which case NFC still precomposes what it can and leaves any remaining combining marks in place (again ordered by rendered position, as in NFD).\n",
    "\n",
    "There are also forms called NFKD and NFKC. The “K” here refers to compatibility decompositions, which cover characters that are “similar” in some sense but not visually identical. However, I’m not going to cover that here.\n",
    "\n",
    "Grapheme Clusters\n",
    "As we’ve seen, Unicode contains various cases where a thing that a user thinks of as a single “character” might actually be made up of multiple code points under the hood. Unicode formalizes this using the notion of a grapheme cluster: a string of one or more code points that constitute a single “user-perceived character”.\n",
    "\n",
    "UAX #29 defines the rules for what, precisely, qualifies as a grapheme cluster. It’s approximately “a base code point followed by any number of combining marks”, but the actual definition is a bit more complicated; it accounts for things like Korean jamo, and emoji ZWJ sequences.\n",
    "\n",
    "The main thing grapheme clusters are used for is text editing: they’re often the most sensible unit for cursor placement and text selection boundaries. Using grapheme clusters for these purposes ensures that you can’t accidentally chop off some diacritics when you copy-and-paste text, that left/right arrow keys always move the cursor by one visible character, and so on.\n",
    "\n",
    "Another place where grapheme clusters are useful is in enforcing a string length limit—say, on a database field. While the true, underlying limit might be something like the byte length of the string in UTF-8, you wouldn’t want to enforce that by just truncating bytes. At a minimum, you’d want to “round down” to the nearest code point boundary; but even better, round down to the nearest grapheme cluster boundary. Otherwise, you might be corrupting the last character by cutting off a diacritic, or interrupting a jamo sequence or ZWJ sequence.\n",
    "\n",
    "And More…\n",
    "There’s much more that could be said about Unicode from a programmer’s perspective! I haven’t gotten into such fun topics as case mapping, collation, compatibility decompositions and confusables, Unicode-aware regexes, or bidirectional text. Nor have I said anything yet about implementation issues—how to efficiently store and look-up data about the sparsely-assigned code points, or how to optimize UTF-8 decoding, string comparison, or NFC normalization. Perhaps I’ll return to some of those things in future posts.\n",
    "\n",
    "Unicode is a fascinating and complex system. It has a many-to-one mapping between bytes and code points, and on top of that a many-to-one (or, under some circumstances, many-to-many) mapping between code points and “characters”. It has oddball special cases in every corner. But no one ever claimed that representing all written languages was going to be easy, and it’s clear that we’re never going back to the bad old days of a patchwork of incompatible encodings.\n",
    "\n",
    "Further reading:\n",
    "\n",
    "The Unicode Standard\n",
    "UTF-8 Everywhere Manifesto\n",
    "Dark corners of Unicode by Eevee\n",
    "ICU (International Components for Unicode)—C/C++/Java libraries implementing many Unicode algorithms and related things\n",
    "Python 3 Unicode Howto\n",
    "Google Noto Fonts—set of fonts intended to cover all assigned code points\"\"\"\n",
    "\n",
    "substitution_table = bpe(training_text, 512)"
   ]
  },
  {
   "cell_type": "markdown",
   "metadata": {},
   "source": [
    "## Decoding\n",
    "\n",
    "Given a list of token ids, we want to be able to retrieve the human-readable text it originated from."
   ]
  },
  {
   "cell_type": "code",
   "execution_count": 20,
   "metadata": {},
   "outputs": [],
   "source": [
    "def decode(token_ids: list[int], substitution_table: dict[tuple[int, int], int]) -> str:\n",
    "    vocabulary = {\n",
    "        token_id: bytes([token_id]) for token_id in range(256)\n",
    "    }\n",
    "\n",
    "    # This only works if the \"composed\" token ids are inserted in increasing order !\n",
    "    # A more robust solution would be sorting the keys from the replacement table\n",
    "    for (token_a, token_b), token_id in substitution_table.items():\n",
    "        vocabulary[token_id] = vocabulary[token_a] + vocabulary[token_b]\n",
    "\n",
    "    # We have no guarantee that we are actually decoding an UTF-8-compliant list of bytes\n",
    "    # For invalid byte sequences, we simply fill-in a replacement character\n",
    "    return b\"\".join(vocabulary[token_id] for token_id in token_ids).decode(\"utf-8\", errors=\"replace\")"
   ]
  },
  {
   "cell_type": "markdown",
   "metadata": {},
   "source": [
    "## Encoding\n",
    "\n",
    "Given a text, we want to compute the minimal representation of that text using token ids."
   ]
  },
  {
   "cell_type": "code",
   "execution_count": 21,
   "metadata": {},
   "outputs": [],
   "source": [
    "def encode(text: str, substitution_table: dict[tuple[int, int], int]) -> list[int]:\n",
    "    encoded_text = text.encode(\"utf-8\")\n",
    "\n",
    "    for token_pair, replacement_token in substitution_table.items():\n",
    "        encoded_text = merge(encoded_text, token_pair, replacement_token)\n",
    "    \n",
    "    return encoded_text"
   ]
  },
  {
   "cell_type": "code",
   "execution_count": 22,
   "metadata": {},
   "outputs": [
    {
     "name": "stdout",
     "output_type": "stream",
     "text": [
      "[104, 101, 332, 277, 405, 108, 100, 33]\n"
     ]
    }
   ],
   "source": [
    "print(encode(\"hello world!\", substitution_table))"
   ]
  },
  {
   "cell_type": "code",
   "execution_count": 23,
   "metadata": {},
   "outputs": [
    {
     "name": "stdout",
     "output_type": "stream",
     "text": [
      "hello world!\n"
     ]
    }
   ],
   "source": [
    "print(decode(encode(\"hello world!\", substitution_table), substitution_table))"
   ]
  },
  {
   "cell_type": "markdown",
   "metadata": {},
   "source": [
    "## Enforcing splits to avoid useless merges"
   ]
  },
  {
   "cell_type": "markdown",
   "metadata": {},
   "source": [
    "As laid out in [GPT-2 paper](https://cdn.openai.com/better-language-models/language_models_are_unsupervised_multitask_learners.pdf), we want to avoid merging some combinations which would take up slots in our fixed-size vocabulary without being relevant. The given examples are \"dog\", \"dog.\" and \"dog!\", which should not be dedicated distinct \"words\" of the vocabulary; instead, we would like to have \"dog\", \".\" and \"!\" separately.\n",
    "\n",
    "The proposed solution to this issue is splitting the text in groups composed of adjacent tokens candidates to be merged with their neighbours, preventing any wasteful / harmful merge."
   ]
  },
  {
   "cell_type": "code",
   "execution_count": 1,
   "metadata": {},
   "outputs": [],
   "source": [
    "import regex\n",
    "\n",
    "# A bit of explanation on the following RegEx:\n",
    "# - 's, 't, 're, 've, 'm, 'll and 'd are common suffixes in the English language; we don't want to merge\n",
    "# those suffixes with any other token, because the possible combinations are near infinite; instead, those \n",
    "# suffixes are tokens by themselves\n",
    "# - \\p{L}+ will match any sequence of at least one letter, from any language\n",
    "# - \\p{N}+ will match any sequence of at least one numeric character, from any script\n",
    "# - [^\\s\\p{L}\\p{N}]+ will match any sequence of at least one character which is not a blank character, \n",
    "# a letter or a numeric character \n",
    "# - \\s+(?!\\S) will match any sequence of at least one blank character followed by ?, ! or any non-blank \n",
    "# character\n",
    "# - \\s+ will match any sequence of at least one blank character\n",
    "gpt2_pattern = regex.compile(r\"\"\"'s|'t|'re|'ve|'m|'ll|'d| ?\\p{L}+| ?\\p{N}+| ?[^\\s\\p{L}\\p{N}]+|\\s+(?!\\S)|\\s+\"\"\")"
   ]
  },
  {
   "cell_type": "code",
   "execution_count": 2,
   "metadata": {},
   "outputs": [
    {
     "name": "stdout",
     "output_type": "stream",
     "text": [
      "['I', \"'m\", ' glad', ' to', ' say', \" '\", 'Hello', ',', ' World', \"!'.\", ' Oops', ',', ' it', '      ', ' appears', ' ', ' white', ' spaces', ' have', '  ', ' invaded', ' :(', ' There', ' is', ' at', ' least', ' 10', ' of', ' them', '.']\n"
     ]
    }
   ],
   "source": [
    "print(regex.findall(gpt2_pattern, \"I'm glad to say 'Hello, World!'. Oops, it       appears  white spaces have   invaded :( There is at least 10 of them.\"))"
   ]
  }
 ],
 "metadata": {
  "kernelspec": {
   "display_name": "tokenizer-env",
   "language": "python",
   "name": "python3"
  },
  "language_info": {
   "codemirror_mode": {
    "name": "ipython",
    "version": 3
   },
   "file_extension": ".py",
   "mimetype": "text/x-python",
   "name": "python",
   "nbconvert_exporter": "python",
   "pygments_lexer": "ipython3",
   "version": "3.11.9"
  }
 },
 "nbformat": 4,
 "nbformat_minor": 2
}
